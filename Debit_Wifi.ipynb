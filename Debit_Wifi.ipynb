{
  "cells": [
    {
      "cell_type": "code",
      "execution_count": 1,
      "metadata": {
        "colab": {
          "base_uri": "https://localhost:8080/"
        },
        "id": "nDnl29FAWNxl",
        "outputId": "fe394d6a-002a-4749-f6ac-44b6b7637369"
      },
      "outputs": [
        {
          "output_type": "stream",
          "name": "stdout",
          "text": [
            "Looking in indexes: https://pypi.org/simple, https://us-python.pkg.dev/colab-wheels/public/simple/\n",
            "Collecting speedtest-cli\n",
            "  Downloading speedtest_cli-2.1.3-py2.py3-none-any.whl (23 kB)\n",
            "Installing collected packages: speedtest-cli\n",
            "Successfully installed speedtest-cli-2.1.3\n"
          ]
        }
      ],
      "source": [
        "pip install speedtest-cli"
      ]
    },
    {
      "cell_type": "code",
      "execution_count": 2,
      "metadata": {
        "id": "d7xIf0Xh_spf"
      },
      "outputs": [],
      "source": [
        "import speedtest"
      ]
    },
    {
      "cell_type": "code",
      "execution_count": 4,
      "metadata": {
        "colab": {
          "base_uri": "https://localhost:8080/"
        },
        "id": "pOUsShNmAAYw",
        "outputId": "04bffdcc-abe8-4cbc-e8a3-dc78aacbe5c8"
      },
      "outputs": [
        {
          "output_type": "stream",
          "name": "stdout",
          "text": [
            "* Download - Speed : 1.597 Mbps\n",
            "*** Upload - Speed : 0.52 Mbps\n",
            "-----------------------------------\n",
            "************* Ping : 22.301 ms\n"
          ]
        }
      ],
      "source": [
        "wifi = speedtest.Speedtest()\n",
        "wifi.get_servers([])\n",
        "\n",
        "print(f'* Download - Speed : {round(wifi.download() / 1000000000, 3)} Mbps')\n",
        "print(f'*** Upload - Speed : {round(wifi.upload() / 1000000000, 3)} Mbps')\n",
        "\n",
        "print('-'*35)\n",
        "print(f'************* Ping : {wifi.results.ping} ms')"
      ]
    }
  ],
  "metadata": {
    "colab": {
      "collapsed_sections": [],
      "name": "Debit Wifi.ipynb",
      "provenance": []
    },
    "kernelspec": {
      "display_name": "Python 3",
      "name": "python3"
    },
    "language_info": {
      "name": "python"
    }
  },
  "nbformat": 4,
  "nbformat_minor": 0
}